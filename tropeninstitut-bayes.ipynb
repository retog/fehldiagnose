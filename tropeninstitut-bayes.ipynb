{
 "cells": [
  {
   "cell_type": "markdown",
   "metadata": {},
   "source": [
    "# Der Bericht des Tropeninstitut\n",
    "\n",
    "Es gibt keinen eindeutigen Test für Multiple Sklerose (MS). Zur Diagnose gehört deshalb der Ausschluss andere möglichen Ursachen. Im Rahmen meiner Diagnose im Jahre 2006 war Neuroschistosomiasis (neuro-Billharziose) eine andere mögliche Ursache.\n",
    "Ich wurde zur Abklärung nach Basel ans schweizerische Tropeninstitut geschickt. Aufgrund dieses Berichts wurde dann die MS Diagnose erstellt.\n",
    "\n",
    "![Obwohi die beschriebenen Symptome sowohi mit einer multiplen Sklerose als auch mit einem Folgezustand eines akuten immunologischen Bilharziosebiides vereinbar wären, ist erstere Diagnose wesentiich wahrscheiniicher als eine Bilharziose. (1) Der Abwehrkörpen/vert ist gegenüber der letzten Untersuchung Im Paralleltest leicht regredient. Bekannterweise können bei vielen Bilharzioseerkrankungen die Antikörperwerte über Jahre (bis lebenslang) persistieren, ohne Zeichen einer weiter bestehenden Krankheit zu sein. (2) Weder im Stuhl noch im Urin fanden sich Eier von Schistosoma mansoni oder Schistosoma haematobium.(3) Indirekte Infektionszeichen wie eine Biuteosinophilie fehlen. Mit diesen drei Elementen kann eine aktive Bilharziose ais Ursache des aktuellen neurologischen Biides mit an Sicherheit grenzender Wahrscheinlichkeit ausgeschiossen werden.](./tropeninstitut-kern.png)\n",
    "\n",
    "Weil sich immer noch mich behandelnde Ärzte auf den autoritativen Befund des Tropeninstituts berufen, möchte ich im Folgenden prüfen, ob die Schlussfolgerung einer Wahrscheinlichkeitsanalyse standhält."
   ]
  },
  {
   "cell_type": "markdown",
   "metadata": {},
   "source": [
    "\n",
    "## Struktur des Arguments\n",
    "\n",
    "Es wird eingeräumt, dass ein Neuroshistosomiasis (\"ein Folgezustand eines akuten immunologischen Bilharziosebildes\") die Symptome auch erklären könnte. Die nicht genauer spezifizierte Washrscheinlichkeit einer solchen Neuroshistosomiasis wird dann durch drei Beobachtung reduziert, die mit der These unvereinbar scheinen, bis am Schluss die Restwahrscheinlichkeit an die unmöglichkeit grenzt.\n",
    "\n",
    "Nun, ich möchte das, mit möglichst realistischen Annahmen zu den einzelnen Wahrscheinlichkeiten nachrechnen."
   ]
  },
  {
   "cell_type": "markdown",
   "metadata": {},
   "source": [
    "## Satz von Bayes\n",
    "\n",
    "Der Satz von Bayes erlaubt bedingte Wahrscheinlichkeiten zu berechnen. Also aufgrund neuer Evidenz (etwa ein Laborergebnis) eine Wahrscheinlichkeit anzupassen.\n",
    "\n",
    "Das ist die Formel:\n",
    "\n",
    "$$ P(A|B) = \\frac{P(B|A) * P(A) }{ P(B)} $$\n",
    "\n",
    "Die Wahrscheinlichkeit von A unter der Bedingung, dass B eingetreten ist, wird berechnet aufgrund der apriorischen Wahrscheinlichkeit von A, der Wahrscheinlichkeit von B, und der Wahrscheinlichkeit von B, wenn A eingetreten ist."
   ]
  },
  {
   "cell_type": "markdown",
   "metadata": {},
   "source": [
    "## Regrediente Antikörper\n",
    "\n",
    "Der erste Punkt im Bericht betrifft die regredienten Antikörper.\n",
    "\n",
    "$ P(NS|Regredienten Antikörper) = \\frac{P(Regredienten Antikörper|NS) * P(NS) }{ P(Regredienten Antikörper)} $\n",
    "\n",
    "P(NS) ist die A-priori-Wahrscheinlichkeit. Weil die Wahrscheinlichkeit neurologische Komplikation zwischen 1-5%<a name=\"cite_ref-1\"></a>[<sup>[1]</sup>](#cite_note-1) geschätzt wird und Katayama Fieber ein Indiz für einen starken Befall eines Schistosomen-Naiven Immunsystems ist, nehmen wir eine Wahrscheinlichkeit am oberen Rand an:\n",
    "\n",
    "P(NS) = 5% = 0.05\n",
    "\n",
    "P(Regredienten Antikörper|NS) ist die Wahrscheinlichkeit, dass die Anzahl Antikörper nach der Behandlung trotz im ZNS verbleibende Parasiten abnimmt. Weil bei Neuroschistosomiasis Antikörper intrathekal synthetisiert werden<a name=\"cite_ref-2\"></a>[<sup>[2]</sup>](#cite_note-2) ist nach der Eradikation der Parasiten ausserhalb der ZNS eine leichte Abnahme im Serum relativ wahrscheinlich. Deshalb die Annahme:\n",
    "\n",
    "P(Regredienten Antikörper|NS) = 0.7\n",
    "\n",
    "P(Regredienten Antikörper) ist die Wahrscheinlichkeit, dass die Anzahl Antikörper nach der Behandlung abnimmt, unabhängig davon, ob alle Parasiten getötet wurden. Das ist leicht wahrscheinlicher, aber auch nicht zwingend.\n",
    "\n",
    "P(Regredienten Antikörper) = 0.9\n",
    "\n",
    "$ P(NS|Regredienten Antikörper) = \\frac{0.7 * 0.05 }{ 0.9} = 0.039 $\n",
    "\n",
    "Bei den getroffenen Annahme über die Wahrscheinlichkeit sinkt also durch Berücksichtigung dieses Elements die Wahrscheinlichkeit einer Neuroschistosomiasis von 0.05 auf 0.039."
   ]
  },
  {
   "cell_type": "markdown",
   "metadata": {},
   "source": [
    "## Keine Eier gefunden\n",
    "\n",
    "$ P(NS|keine Eier gefunden) = \\frac{P(keine Eier gefunden|NS) * P(NS) }{ P(keine Eier gefunden)} $\n",
    "\n",
    "Diese Diagnostik eine Sensitivität von weniger als 50% und ist in einer chronischen Phase noch geringer<a name=\"cite_ref-3\"></a>[<sup>[3]</sup>](#cite_note-3). Bei einer niedrigen Infektionslast wäre es nötig Stuhl und Urin über einen längeren Zeitraum zu sammeln. Neuroschistosomiasis ist zudem genau dadurch gekennzeichnet, dass sich der Parasit an einem Ort verirrt hat, an dem es die Eier schwer haben ausgeschieden zu werden.\n",
    "\n",
    "P(keine Eier gefunden|NS) ist aufgrund dieser Betrachtungen sehr hoch. Annahme:\n",
    "\n",
    "P(keine Eier gefunden|NS) = 0.9\n",
    "\n",
    "P(keine Eier gefunden) setzt sich zusammen aus P(keine Eier gefunden|¬NS) der Wahrscheinlichkeit keine Eier zu finden, wenn der Parasit auch nicht mehr im ZNS ist und P(keine Eier gefunden|NS). \n",
    "\n",
    "Ohne Parasit keine Eier, deshalb\n",
    "\n",
    "P(keine Eier gefunden|¬NS) = 1\n",
    "\n",
    "P(keine Eier gefunden) = P(keine Eier gefunden|NS)*P(NS) + P(keine Eier gefunden|¬NS)*P(¬NS)\n",
    "\n",
    "P(¬NS) = 1 - P(NS)\n",
    "\n",
    "Alles zusammen haben wir diese Formel\n",
    "\n",
    "$ P(NS|keine Eier gefunden) = \\frac{P(keine Eier gefunden|NS) * P(NS) }{ P(keine Eier gefunden|NS)*P(NS) + P(keine Eier gefunden|¬NS)*(1 - P(NS)) } $\n",
    "\n",
    "Als P(NS) nehmen wir jetzt den im vorherigen Schritt bereits auf die regredienten Antikörper angepassten Wert.\n",
    "\n",
    "P(NS) = 0.039\n",
    "\n",
    "Somit ergibt sich:\n",
    "\n",
    "$ P(NS|keine Eier gefunden) = \\frac{0.9 * 0.039 }{ 0.9 * 0.039 + 1*(1 - 0.039) } = 0.035 $\n",
    "\n",
    "Unter Berücksichtigung des zweiten Elementes sinkt also, unter den getroffenen Annahmen, die Wahrscheinlichkeit auf 0.035."
   ]
  },
  {
   "cell_type": "markdown",
   "metadata": {},
   "source": [
    "## Keine Bluteosinophilie\n",
    "\n",
    "$ P(NS|keine Bluteosinophilie) = \\frac{P(keine Bluteosinophilie|NS) * P(NS) }{ P(keine Bluteosinophilie)} $\n",
    "\n",
    "Die Blueosinophile sind bei Neuroschistosomiasis nicht immer erhöht. In einer brasilianischen Studie zu von Shistosoma Mansoni verursachter Neuroschistosomiasis hatten 50% der Patienten erhöhte Werte<a name=\"cite_ref-4\"></a>[<sup>[4]</sup>](#cite_note-4). Wir setzen deshalb:\n",
    "\n",
    "P(keine Bluteosinophilie|NS) = 0.5\n",
    "\n",
    "Analog zu P(keine Eier gefunden) setzt sich P(keine Bluteosinophilie) wie folgt zusammen:\n",
    "\n",
    "P(keine Bluteosinophilie) = P(keine Bluteosinophilie|NS)*P(NS) + P(keine Bluteosinophilie|¬NS)*P(¬NS)\n",
    "\n",
    "Was zur aggregierter Formel führt:\n",
    "\n",
    "$ P(NS|keine Bluteosinophilie) = \\frac{P(keine Bluteosinophilie|NS) * P(NS) }{ P(keine Bluteosinophilie|NS)*P(NS) + P(keine Bluteosinophilie|¬NS)*(1 - P(NS)) } $\n",
    "\n",
    "Laut einer dänischen Studie haben 5% der Männer zwischen 30 und 39 Eosinophile über 440/μL<a name=\"cite_ref-5\"></a>[<sup>[5]</sup>](#cite_note-5), somit haben 95% keine erhöhte Werte. Wir setzten deshalb:\n",
    "\n",
    "P(keine Bluteosinophilie|¬NS) = 0.95\n",
    "\n",
    "Wieder dient den im vorherigen Schritt angepassten Wert als neue Ausgangswahrscheinlichkeit:\n",
    "\n",
    "P(NS) = 0.035\n",
    "\n",
    "Somit ergibt sich:\n",
    "\n",
    "$ P(NS|keine Bluteosinophilie) = \\frac{0.5 * 0.035 }{ 0.5 * 0.035 + 0.95*(1 - 0.035) } = 0.019 $\n",
    "\n",
    "Unter Berücksichtigung aller drei Elemente beträgt also die Wahrscheinlichkeit einer Neuroschistosomiasis 0.019."
   ]
  },
  {
   "cell_type": "markdown",
   "metadata": {},
   "source": [
    "## Vergleich mit der MS Wahrscheinlickeit\n",
    "\n",
    "Die Prävalenz wird auf etwa 150 Erkrankungen pro 100’000 Einwohner geschätzt<a name=\"cite_ref-6\"></a>[<sup>[6]</sup>](#cite_note-6), somit liegt die Wahrscheinlichkeit MS zu haben bei 0.0015.\n",
    "\n",
    "Die Wahrscheinlichkeit bei den drei im Bericht erwähnten Gegebenheiten nach einem Katayama Fieber an Neuroschistosomiasis erkrankt zu sein, ist also 12-mal grösser, als jene MS zu haben."
   ]
  },
  {
   "cell_type": "markdown",
   "metadata": {},
   "source": [
    "## Konklusion\n",
    "\n",
    "Die Schlussfolgerung des Berichts des Tropeninstituts, das eine Neuroschistosomiasis mit an Sicherheit grenzender Wahrscheinlichkeit ausgeschlossen werden kann, steht im klaren Widerspruch zu dieser Wahrscheinlichkeitsanalyse. In den obigen Berechnungen mussten wir aufgrund ungenügender empirischer Daten einige Annahmen treffen, entsprechend hat die berechnete Wahrscheinlichkeit einer Neuroschistosomiasis keinen Anspruch auf Genauigkeit. Doch selbst wenn diese Wahrscheinlichkeit deutlich kleiner wären, hätte Neuroschistosomiasis nicht ausgeschlossen werden dürfen."
   ]
  },
  {
   "cell_type": "markdown",
   "metadata": {},
   "source": [
    "<a name=\"cite_note-1\"></a>[[1]](#cite_ref-1) Transactions of The Royal Society of Tropical Medicine and Hygiene, Volume 102, Issue 2, February 2008, Pages 107–116, https://doi.org/10.1016/j.trstmh.2007.08.004\n",
    "\n",
    "<a name=\"cite_note-2\"></a>[[2]](#cite_ref-2) Neuroschistosomiasis: clinical symptoms and pathogenesis - The Lancet Neurology, Volume 10, Issue 9, September 2011, Pages 853-864, https://doi.org/10.1016/S1474-4422(11)70170-3\n",
    "\n",
    "<a name=\"cite_note-3\"></a>[[3]](#cite_ref-3) Schistosomiasis | Nature Reviews Disease Primers 4, Article Number 13, August 2018, https://www.nature.com/articles/s41572-018-0013-8\n",
    "\n",
    "<a name=\"cite_note-4\"></a>[[4]](#cite_ref-4) Ross, A.G., McManus, D.P., Farrar, J. et al. Neuroschistosomiasis. J Neurol 259, 22–32 (2012). https://doi.org/10.1007/s00415-011-6133-7\n",
    "\n",
    "<a name=\"cite_note-5\"></a>[[5]](#cite_ref-5) Blood eosinophil count in the general population: typical values and potential confounders, European Respiratory Journal 2020 55: 1901874; DOI: 10.1183/13993003.01874-2019, https://erj.ersjournals.com/content/55/5/1901874\n",
    "\n",
    "<a name=\"cite_note-6\"></a>[[6]](#cite_ref-6) https://www.multiplesklerose.ch/de/aktuelles/detail/wie-viele-menschen-mit-ms-leben-in-der-schweiz/"
   ]
  },
  {
   "cell_type": "markdown",
   "metadata": {},
   "source": [
    "# Weiter Datenpunkte\n",
    "\n",
    "Die bishehiren Betrachtungen analysieren asuschlisslich, die im Befund von 2006 Erwähnte Elemente. Im folgende noch weitere (spätere) Datenpunkte.\n",
    "\n",
    "## MRI vom 24.11.2006\n",
    "- Raumfordernde Läsionen im Segment HWK 2/3 und HWK 6/7:\n",
    "\n",
    "    Raumfordernde Läsionen im Rückenmark, wie in den Segmenten HWK 2/3 und HWK 6/7 beschrieben, können bei Neuroschistosomiasis auftreten. Schistosomen oder deren Eier können Granulome oder entzündliche Läsionen im Rückenmark verursachen, die raumfordernde Eigenschaften aufweisen können. Während MS auch das Rückenmark betreffen kann, sind raumfordernde Läsionen dort weniger typisch.\n",
    "\n",
    "    -> laut [DGN MS Diagnose Richtlinien](https://register.awmf.org/assets/guidelines/030-050l_S2e_Diagnose-Therapie-Multiplen-Sklerose-Neuromyelitis-Optica-Spektrum-MOG-IgG-assoziierte_Erkrankungen_2021-05_1-verlaengert_01.pdf) gelten *raumfordernde Läsionen* als Hinweis auf Differenzialdiagnose\n",
    "\n",
    "    -> laut [Tumefactive Demyelination: Clinical Outcomes, Lesion Evolution and Treatments (924) | Neurology](https://n.neurology.org/content/94/15_Supplement/924) sind diese bei MS selten und \"may predict a more benign overall course and is susceptible to traditional immunomodulatory treatments\"\n",
    "- Während die MRT-Befunde mit mehreren Läsionen im Gehirn und Rückenmark sowohl mit MS als auch mit Neuroschistosomiasis vereinbar sein könnten, könnte die spezifische Lokalisation und Art der Läsionen (z.B. im juxtakortikalen Marklager, im Corpus callosum) in Kombination mit der Vorgeschichte von Katayama-Fieber eher auf eine Neuroschistosomiasis hinweisen.\n",
    "\n",
    "## Labor Liqör\n",
    "- Intrathekale IgG-, IgA- und IgM-Synthese:\n",
    "\n",
    "    Die Produktion von Immunglobulinen (IgG, IgA und IgM) innerhalb des Zentralnervensystems (intrathekal) kann ein Zeichen für eine Immunantwort auf eine Infektion oder Entzündung im ZNS sein. Während eine intrathekale IgG-Synthese häufig bei MS gesehen wird, ist die gleichzeitige Synthese von IgA und IgM weniger typisch für MS und könnte auf eine alternative Ursache wie eine Infektion hinweisen. Neuroschistosomiasis könnte eine solche intrathekale Immunantwort auslösen.\n",
    "\n",
    "    -> laut [DGN MS Diagnose Richtlinien](https://register.awmf.org/assets/guidelines/030-050l_S2e_Diagnose-Therapie-Multiplen-Sklerose-Neuromyelitis-Optica-Spektrum-MOG-IgG-assoziierte_Erkrankungen_2021-05_1-verlaengert_01.pdf) gilt eine *intrathekale IgA-Synthese* als Hinweis auf Differenzialdiagnose\n",
    "\n",
    "## Unwirksame MS Medikamente\n",
    "- Seit 2012 anwendung von DMD, Copaxone, Dimethyfumarat, Aubagio, Ocrevus.  Keine Verlangsamung sondern zunehmende Verschnellerung der Progression.\n",
    "\n",
    "## 2023: Positiver PCR Test\n",
    "- Nur das ZNS Zeigt schäden die von Schistosomen stammen könnten. Sonographie unauffällig.\n",
    "\n",
    "## 2023-10-15 hochdosiertes Praziquantel\n",
    "- Nach der gabe einer für Neuroschistosomiasis wirksame dosis Praziquantel Verschlechterung der Symptome. Besserung nach beginn Prednison. Nach 10 Tagen Prednison sind die Symptome deutlich besser als vor Praziquantel. Bei der anschliessenden Reduktion des Prednison erneute Verschlechterung."
   ]
  }
 ],
 "metadata": {
  "kernelspec": {
   "display_name": "Python 3",
   "language": "python",
   "name": "python3"
  },
  "language_info": {
   "name": "python",
   "version": "3.11.6"
  }
 },
 "nbformat": 4,
 "nbformat_minor": 2
}
